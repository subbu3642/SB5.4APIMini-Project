{
 "cells": [
  {
   "cell_type": "code",
   "execution_count": 1,
   "metadata": {},
   "outputs": [],
   "source": [
    "#importing requests module\n",
    "import requests"
   ]
  },
  {
   "cell_type": "code",
   "execution_count": 3,
   "metadata": {},
   "outputs": [
    {
     "data": {
      "text/plain": [
       "{'dataset': {'id': 10095370,\n",
       "  'dataset_code': 'AFX_X',\n",
       "  'database_code': 'FSE',\n",
       "  'name': 'Carl Zeiss Meditec (AFX_X)',\n",
       "  'description': 'Stock Prices for Carl Zeiss Meditec (2019-12-09) from the Frankfurt Stock Exchange.<br><br>Trading System: Xetra<br><br>ISIN: DE0005313704',\n",
       "  'refreshed_at': '2019-12-23T22:20:10.972Z',\n",
       "  'newest_available_date': '2019-12-23',\n",
       "  'oldest_available_date': '2000-06-07',\n",
       "  'column_names': ['Date',\n",
       "   'Open',\n",
       "   'High',\n",
       "   'Low',\n",
       "   'Close',\n",
       "   'Change',\n",
       "   'Traded Volume',\n",
       "   'Turnover',\n",
       "   'Last Price of the Day',\n",
       "   'Daily Traded Units',\n",
       "   'Daily Turnover'],\n",
       "  'frequency': 'daily',\n",
       "  'type': 'Time Series',\n",
       "  'premium': False,\n",
       "  'limit': None,\n",
       "  'transform': None,\n",
       "  'column_index': None,\n",
       "  'start_date': '2019-12-04',\n",
       "  'end_date': '2019-12-05',\n",
       "  'data': [['2019-12-05',\n",
       "    110.1,\n",
       "    110.3,\n",
       "    109.2,\n",
       "    110.1,\n",
       "    None,\n",
       "    69911.0,\n",
       "    7687537.5,\n",
       "    None,\n",
       "    None,\n",
       "    None],\n",
       "   ['2019-12-04',\n",
       "    108.6,\n",
       "    110.4,\n",
       "    108.5,\n",
       "    109.6,\n",
       "    None,\n",
       "    91446.0,\n",
       "    10015437.0,\n",
       "    None,\n",
       "    None,\n",
       "    None]],\n",
       "  'collapse': None,\n",
       "  'order': None,\n",
       "  'database_id': 6129}}"
      ]
     },
     "execution_count": 3,
     "metadata": {},
     "output_type": "execute_result"
    }
   ],
   "source": [
    "#sample data checking to verify the basic structure of data organized\n",
    "#so a two day data is extracted\n",
    "r = requests.get('https://www.quandl.com/api/v3/datasets/FSE/AFX_X.json?start_date=2019-12-04&end_date=2019-12-05api_key=API_KEY')\n",
    "r.json()"
   ]
  },
  {
   "cell_type": "markdown",
   "metadata": {},
   "source": [
    "# 1. Collect data from the Franfurt Stock Exchange, for the ticker AFX_X, for the whole year 2017 (keep in mind that the date format is YYYY-MM-DD)."
   ]
  },
  {
   "cell_type": "code",
   "execution_count": 4,
   "metadata": {},
   "outputs": [],
   "source": [
    "r = requests.get('https://www.quandl.com/api/v3/datasets/FSE/AFX_X.json?start_date=2017-01-01&end_date=2017-12-31api_key=API_KEY')"
   ]
  },
  {
   "cell_type": "markdown",
   "metadata": {},
   "source": [
    "# 2. Convert the returned JSON object into a Python dictionary."
   ]
  },
  {
   "cell_type": "code",
   "execution_count": 5,
   "metadata": {},
   "outputs": [
    {
     "data": {
      "text/plain": [
       "dict"
      ]
     },
     "execution_count": 5,
     "metadata": {},
     "output_type": "execute_result"
    }
   ],
   "source": [
    "dict_data = r.json()\n",
    "type(dict_data)"
   ]
  },
  {
   "cell_type": "markdown",
   "metadata": {},
   "source": [
    "# 3. Calculate what the highest and lowest opening prices were for the stock in this period."
   ]
  },
  {
   "cell_type": "code",
   "execution_count": 6,
   "metadata": {},
   "outputs": [],
   "source": [
    "#Opening price is the column that comes next to date, so index of opening price is 1\n",
    "highest_price = lowest_price = dict_data['dataset']['data'][0][1]\n",
    "for each_day in dict_data['dataset']['data']:\n",
    "    if(type(each_day[1]) == float or type(each_day[1]) == int):\n",
    "        price = each_day[1]\n",
    "        if(price > highest_price): highest_price = price\n",
    "        if(price < lowest_price) : lowest_price = price"
   ]
  },
  {
   "cell_type": "code",
   "execution_count": 7,
   "metadata": {},
   "outputs": [
    {
     "data": {
      "text/plain": [
       "'Highest opening stock price is :53.11'"
      ]
     },
     "execution_count": 7,
     "metadata": {},
     "output_type": "execute_result"
    }
   ],
   "source": [
    "'Highest opening stock price is :' + str(highest_price)"
   ]
  },
  {
   "cell_type": "code",
   "execution_count": 8,
   "metadata": {},
   "outputs": [
    {
     "data": {
      "text/plain": [
       "'Lowest opening stock price is :34.0'"
      ]
     },
     "execution_count": 8,
     "metadata": {},
     "output_type": "execute_result"
    }
   ],
   "source": [
    "'Lowest opening stock price is :' + str(lowest_price)"
   ]
  },
  {
   "cell_type": "markdown",
   "metadata": {},
   "source": [
    "# 4. What was the largest change in any one day (based on High and Low price)?"
   ]
  },
  {
   "cell_type": "code",
   "execution_count": 9,
   "metadata": {},
   "outputs": [
    {
     "data": {
      "text/plain": [
       "'Largest change in any one day is :2.8100000000000023'"
      ]
     },
     "execution_count": 9,
     "metadata": {},
     "output_type": "execute_result"
    }
   ],
   "source": [
    "#Indices of High and Low columns are 2 & 3 respectively\n",
    "#change = High - Low\n",
    "max_price_change_one_day = 0.0\n",
    "for each_day in dict_data['dataset']['data']:\n",
    "    if((type(each_day[2]) == float or type(each_day[2]) == int) and\n",
    "      (type(each_day[3]) == float or type(each_day[3]) == int)):\n",
    "        price_change = each_day[2] - each_day[3]\n",
    "        if(price_change > max_price_change_one_day): max_price_change_one_day = price_change\n",
    "\n",
    "'Largest change in any one day is :' + str(max_price_change_one_day)"
   ]
  },
  {
   "cell_type": "markdown",
   "metadata": {},
   "source": [
    "# 5. What was the largest change between any two days (based on Closing Price)?"
   ]
  },
  {
   "cell_type": "code",
   "execution_count": 10,
   "metadata": {},
   "outputs": [
    {
     "data": {
      "text/plain": [
       "'Largest change between any two days is : 2.559999999999995'"
      ]
     },
     "execution_count": 10,
     "metadata": {},
     "output_type": "execute_result"
    }
   ],
   "source": [
    "#Index of closing price is 4\n",
    "#change = absolute (closing price of current day - closing price of previous day)\n",
    "max_price_change_two_days = 0.0\n",
    "for idx in range(len(dict_data['dataset']['data'])):\n",
    "    if(idx != 0):\n",
    "        if((type(dict_data['dataset']['data'][idx][4]) == float or type(dict_data['dataset']['data'][idx][4]) == int) and\n",
    "      (type(dict_data['dataset']['data'][idx - 1][4]) == float or type(dict_data['dataset']['data'][idx - 1][4]) == int)):\n",
    "            price_change = abs(dict_data['dataset']['data'][idx][4] - dict_data['dataset']['data'][idx - 1][4])\n",
    "            if(price_change > max_price_change_two_days): max_price_change_two_days = price_change\n",
    "    \n",
    "'Largest change between any two days is : ' + str(max_price_change_two_days)"
   ]
  },
  {
   "cell_type": "markdown",
   "metadata": {},
   "source": [
    "# 6. What was the average daily trading volume during this year?"
   ]
  },
  {
   "cell_type": "code",
   "execution_count": 11,
   "metadata": {},
   "outputs": [
    {
     "data": {
      "text/plain": [
       "'Average trading volume per day is : 89124.33725490196'"
      ]
     },
     "execution_count": 11,
     "metadata": {},
     "output_type": "execute_result"
    }
   ],
   "source": [
    "#Index of trading volume is 6\n",
    "list_trading_voulme = []\n",
    "for each_day in dict_data['dataset']['data']:\n",
    "    if(type(each_day[6]) == float or type(each_day[6]) == int):\n",
    "        list_trading_voulme.append(each_day[6])\n",
    "\n",
    "'Average trading volume per day is : ' + str(sum(list_trading_voulme)/len(list_trading_voulme))"
   ]
  },
  {
   "cell_type": "markdown",
   "metadata": {},
   "source": [
    "# 7. (Optional) What was the median trading volume during this year. (Note: you may need to implement your own function for calculating the median.)"
   ]
  },
  {
   "cell_type": "code",
   "execution_count": 12,
   "metadata": {},
   "outputs": [
    {
     "data": {
      "text/plain": [
       "'Median trading volume this year is :134965.0'"
      ]
     },
     "execution_count": 12,
     "metadata": {},
     "output_type": "execute_result"
    }
   ],
   "source": [
    "#Sort the trading volume list and get the middle value from the sorted list\n",
    "n = len(list_trading_voulme)\n",
    "median = 0.0\n",
    "if(n % 2 == 0): \n",
    "    median = (list_trading_voulme[n//2] + list_trading_voulme[n//2 - 1])*0.5\n",
    "else:\n",
    "    median = list_trading_voulme[n//2]\n",
    "    \n",
    "'Median trading volume this year is :' + str(median)"
   ]
  }
 ],
 "metadata": {
  "kernelspec": {
   "display_name": "Python 3",
   "language": "python",
   "name": "python3"
  },
  "language_info": {
   "codemirror_mode": {
    "name": "ipython",
    "version": 3
   },
   "file_extension": ".py",
   "mimetype": "text/x-python",
   "name": "python",
   "nbconvert_exporter": "python",
   "pygments_lexer": "ipython3",
   "version": "3.7.3"
  }
 },
 "nbformat": 4,
 "nbformat_minor": 2
}
